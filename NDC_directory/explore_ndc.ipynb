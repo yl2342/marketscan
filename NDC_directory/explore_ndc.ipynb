{
 "cells": [
  {
   "cell_type": "code",
   "execution_count": 64,
   "metadata": {},
   "outputs": [],
   "source": [
    "import json\n",
    "from collections import Counter\n",
    "\n",
    "with open('drug-ndc-0001-of-0001.json', 'r') as f:\n",
    "    ndc_directory = json.load(f)\n"
   ]
  },
  {
   "cell_type": "code",
   "execution_count": 53,
   "metadata": {},
   "outputs": [],
   "source": [
    "\n",
    "product_ndc = []\n",
    "package_ndc = []\n",
    "\n",
    "for drug in ndc_directory['results']:\n",
    "\n",
    "    product_ndc.append(drug['product_ndc'])\n",
    "    \n",
    "    for package in drug['packaging']:\n",
    "        package_ndc.append(package['package_ndc'])\n",
    "    \n",
    "  \n"
   ]
  },
  {
   "cell_type": "code",
   "execution_count": 59,
   "metadata": {},
   "outputs": [
    {
     "name": "stdout",
     "output_type": "stream",
     "text": [
      "Product NDC digit count:\n",
      "Counter({8: 85766, 9: 44718})\n",
      "Package NDC digit count:\n",
      "Counter({10: 243984, 2: 1})\n"
     ]
    }
   ],
   "source": [
    "product_ndc_digit = [len(ndc.replace('-', '')) for ndc in product_ndc]\n",
    "package_ndc_digit = [len(ndc.replace('-', '')) for ndc in package_ndc]\n",
    "print(\"Product NDC digit count:\")\n",
    "print(Counter(product_ndc_digit))\n",
    "print(\"Package NDC digit count:\")\n",
    "print(Counter(package_ndc_digit))"
   ]
  },
  {
   "cell_type": "code",
   "execution_count": 61,
   "metadata": {},
   "outputs": [
    {
     "name": "stdout",
     "output_type": "stream",
     "text": [
      "Product NDC pattern:\n",
      "Counter({'53': 72634, '54': 44718, '44': 13132})\n",
      "Package NDC pattern:\n",
      "Counter({'532': 136637, '541': 88437, '442': 18910, '2': 1})\n"
     ]
    }
   ],
   "source": [
    "product_ndc_pattern = [''.join(str(len(part)) for part in ndc.split('-')) for ndc in product_ndc]\n",
    "package_ndc_pattern = [''.join(str(len(part)) for part in ndc.split('-')) for ndc in package_ndc]\n",
    "print(\"Product NDC pattern:\")\n",
    "print(Counter(product_ndc_pattern))\n",
    "print(\"Package NDC pattern:\")\n",
    "print(Counter(package_ndc_pattern))"
   ]
  }
 ],
 "metadata": {
  "kernelspec": {
   "display_name": "Python 3",
   "language": "python",
   "name": "python3"
  },
  "language_info": {
   "codemirror_mode": {
    "name": "ipython",
    "version": 3
   },
   "file_extension": ".py",
   "mimetype": "text/x-python",
   "name": "python",
   "nbconvert_exporter": "python",
   "pygments_lexer": "ipython3",
   "version": "3.8.9"
  }
 },
 "nbformat": 4,
 "nbformat_minor": 2
}
